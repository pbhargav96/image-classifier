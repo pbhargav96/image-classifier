{
  "nbformat": 4,
  "nbformat_minor": 0,
  "metadata": {
    "kernelspec": {
      "display_name": "Python 3",
      "language": "python",
      "name": "python3"
    },
    "language_info": {
      "codemirror_mode": {
        "name": "ipython",
        "version": 2
      },
      "file_extension": ".py",
      "mimetype": "text/x-python",
      "name": "python",
      "nbconvert_exporter": "python",
      "pygments_lexer": "ipython2",
      "version": "2.7.6"
    },
    "colab": {
      "name": "image_classifier.ipynb",
      "provenance": []
    }
  },
  "cells": [
    {
      "cell_type": "markdown",
      "metadata": {
        "id": "ZQLo_Jb-OBKD",
        "colab_type": "text"
      },
      "source": [
        "Setup PyTorch for the colab machine"
      ]
    },
    {
      "cell_type": "code",
      "metadata": {
        "id": "17Z4OJCY2u_9",
        "colab_type": "code",
        "outputId": "a25cb606-ad31-459b-b664-33ee499ffd6f",
        "colab": {
          "base_uri": "https://localhost:8080/",
          "height": 118
        }
      },
      "source": [
        "!pip3 install torch==1.2.0+cu92 torchvision==0.4.0+cu92 -f https://download.pytorch.org/whl/torch_stable.html"
      ],
      "execution_count": 51,
      "outputs": [
        {
          "output_type": "stream",
          "text": [
            "Looking in links: https://download.pytorch.org/whl/torch_stable.html\n",
            "Requirement already satisfied: torch==1.2.0+cu92 in /usr/local/lib/python3.6/dist-packages (1.2.0+cu92)\n",
            "Requirement already satisfied: torchvision==0.4.0+cu92 in /usr/local/lib/python3.6/dist-packages (0.4.0+cu92)\n",
            "Requirement already satisfied: numpy in /usr/local/lib/python3.6/dist-packages (from torch==1.2.0+cu92) (1.18.4)\n",
            "Requirement already satisfied: six in /usr/local/lib/python3.6/dist-packages (from torchvision==0.4.0+cu92) (1.12.0)\n",
            "Requirement already satisfied: pillow>=4.1.1 in /usr/local/lib/python3.6/dist-packages (from torchvision==0.4.0+cu92) (6.2.1)\n"
          ],
          "name": "stdout"
        }
      ]
    },
    {
      "cell_type": "code",
      "metadata": {
        "id": "7SWqJF3CC_Vo",
        "colab_type": "code",
        "outputId": "ab1920b9-a077-4169-c4a9-aa485103aa59",
        "colab": {
          "base_uri": "https://localhost:8080/",
          "height": 34
        }
      },
      "source": [
        "!pip3 install Pillow==6.2.1"
      ],
      "execution_count": 52,
      "outputs": [
        {
          "output_type": "stream",
          "text": [
            "Requirement already satisfied: Pillow==6.2.1 in /usr/local/lib/python3.6/dist-packages (6.2.1)\n"
          ],
          "name": "stdout"
        }
      ]
    },
    {
      "cell_type": "markdown",
      "metadata": {
        "id": "sQL1ObeXOMUJ",
        "colab_type": "text"
      },
      "source": [
        "Mount my google drive"
      ]
    },
    {
      "cell_type": "code",
      "metadata": {
        "id": "3dtbWWkFNw8r",
        "colab_type": "code",
        "outputId": "4dcd00af-12e4-40b8-ed16-85a0c1a2850b",
        "colab": {
          "base_uri": "https://localhost:8080/",
          "height": 34
        }
      },
      "source": [
        "from google.colab import drive\n",
        "drive.mount('/content/gdrive')"
      ],
      "execution_count": 53,
      "outputs": [
        {
          "output_type": "stream",
          "text": [
            "Drive already mounted at /content/gdrive; to attempt to forcibly remount, call drive.mount(\"/content/gdrive\", force_remount=True).\n"
          ],
          "name": "stdout"
        }
      ]
    },
    {
      "cell_type": "markdown",
      "metadata": {
        "id": "tbDePYs6OSJ6",
        "colab_type": "text"
      },
      "source": [
        "Import various PyTorch modules"
      ]
    },
    {
      "cell_type": "code",
      "metadata": {
        "id": "7b8LRmwKEMZg",
        "colab_type": "code",
        "colab": {}
      },
      "source": [
        "import torch\n",
        "import torch.nn as nn\n",
        "import torch.nn.functional as F\n",
        "import torchvision\n",
        "import torchvision.transforms as transforms"
      ],
      "execution_count": 0,
      "outputs": []
    },
    {
      "cell_type": "markdown",
      "metadata": {
        "id": "uf7W1sJ9OWgx",
        "colab_type": "text"
      },
      "source": [
        "Use glob to extract data"
      ]
    },
    {
      "cell_type": "code",
      "metadata": {
        "id": "tFa0ZFQBN9w7",
        "colab_type": "code",
        "colab": {}
      },
      "source": [
        "from glob import glob\n",
        "import random"
      ],
      "execution_count": 0,
      "outputs": []
    },
    {
      "cell_type": "code",
      "metadata": {
        "id": "fKtKX7aSRDqP",
        "colab_type": "code",
        "colab": {}
      },
      "source": [
        "def extract_locations(dataset_location):\n",
        "    \"\"\"\n",
        "    Function to get locations of all JPEG images from the given folder\n",
        "    :param dataset_location: location of the folder\n",
        "    :return: a list containing proper location of all JPEG images\n",
        "    \"\"\"\n",
        "    # Define an empty list to store file locations\n",
        "    filename_list = []\n",
        "    # Add file locations to the list\n",
        "    for filename in glob(dataset_location + '*.jpg'):\n",
        "        filename_list.append(filename)\n",
        "    # Remember that glob extract locations in a random order\n",
        "    # We are not sorting the list to get the data in a random order\n",
        "    return filename_list"
      ],
      "execution_count": 0,
      "outputs": []
    },
    {
      "cell_type": "markdown",
      "metadata": {
        "id": "lNxXR2otWG4Y",
        "colab_type": "text"
      },
      "source": [
        "Extract data locations and check whether data has been shuffled"
      ]
    },
    {
      "cell_type": "code",
      "metadata": {
        "id": "b-OAqnoo2q8x",
        "colab_type": "code",
        "outputId": "4800bcad-6d3c-42ed-bc09-3892bf31aa7b",
        "colab": {
          "base_uri": "https://localhost:8080/",
          "height": 34
        }
      },
      "source": [
        "if __name__ == '__main__':\n",
        "  file_names = extract_locations('/content/gdrive/My Drive/ENPM673/Project-6/Dataset/train/')\n",
        "  # Data extraction using glob yields the data in the same order\n",
        "  # Apply shuffling\n",
        "  random.shuffle(file_names)\n",
        "  indices = [i for i in range(len(file_names)) if 'dog' in file_names[i]]\n",
        "  print(indices[:10])"
      ],
      "execution_count": 62,
      "outputs": [
        {
          "output_type": "stream",
          "text": [
            "[1, 2, 4, 8, 9, 11, 12, 13, 15, 16]\n"
          ],
          "name": "stdout"
        }
      ]
    }
  ]
}