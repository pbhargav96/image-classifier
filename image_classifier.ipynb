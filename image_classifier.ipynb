{
  "nbformat": 4,
  "nbformat_minor": 0,
  "metadata": {
    "kernelspec": {
      "display_name": "Python 3",
      "language": "python",
      "name": "python3"
    },
    "language_info": {
      "codemirror_mode": {
        "name": "ipython",
        "version": 2
      },
      "file_extension": ".py",
      "mimetype": "text/x-python",
      "name": "python",
      "nbconvert_exporter": "python",
      "pygments_lexer": "ipython2",
      "version": "2.7.6"
    },
    "colab": {
      "name": "image_classifier.ipynb",
      "provenance": []
    }
  },
  "cells": [
    {
      "cell_type": "markdown",
      "metadata": {
        "id": "ZQLo_Jb-OBKD",
        "colab_type": "text"
      },
      "source": [
        "Setup PyTorch for the colab machine"
      ]
    },
    {
      "cell_type": "code",
      "metadata": {
        "id": "17Z4OJCY2u_9",
        "colab_type": "code",
        "colab": {
          "base_uri": "https://localhost:8080/",
          "height": 118
        },
        "outputId": "c00cf51b-b420-4da6-e241-bf486d9dc90c"
      },
      "source": [
        "!pip3 install torch==1.2.0+cu92 torchvision==0.4.0+cu92 -f https://download.pytorch.org/whl/torch_stable.html"
      ],
      "execution_count": 6,
      "outputs": [
        {
          "output_type": "stream",
          "text": [
            "Looking in links: https://download.pytorch.org/whl/torch_stable.html\n",
            "Requirement already satisfied: torch==1.2.0+cu92 in /usr/local/lib/python3.6/dist-packages (1.2.0+cu92)\n",
            "Requirement already satisfied: torchvision==0.4.0+cu92 in /usr/local/lib/python3.6/dist-packages (0.4.0+cu92)\n",
            "Requirement already satisfied: numpy in /usr/local/lib/python3.6/dist-packages (from torch==1.2.0+cu92) (1.18.4)\n",
            "Requirement already satisfied: pillow>=4.1.1 in /usr/local/lib/python3.6/dist-packages (from torchvision==0.4.0+cu92) (6.2.1)\n",
            "Requirement already satisfied: six in /usr/local/lib/python3.6/dist-packages (from torchvision==0.4.0+cu92) (1.12.0)\n"
          ],
          "name": "stdout"
        }
      ]
    },
    {
      "cell_type": "code",
      "metadata": {
        "id": "7SWqJF3CC_Vo",
        "colab_type": "code",
        "colab": {
          "base_uri": "https://localhost:8080/",
          "height": 34
        },
        "outputId": "edfa24e5-01ee-4acc-cb7c-8233bdbe7e2d"
      },
      "source": [
        "!pip3 install Pillow==6.2.1"
      ],
      "execution_count": 7,
      "outputs": [
        {
          "output_type": "stream",
          "text": [
            "Requirement already satisfied: Pillow==6.2.1 in /usr/local/lib/python3.6/dist-packages (6.2.1)\n"
          ],
          "name": "stdout"
        }
      ]
    },
    {
      "cell_type": "markdown",
      "metadata": {
        "id": "sQL1ObeXOMUJ",
        "colab_type": "text"
      },
      "source": [
        "Mount my google drive"
      ]
    },
    {
      "cell_type": "code",
      "metadata": {
        "id": "3dtbWWkFNw8r",
        "colab_type": "code",
        "colab": {
          "base_uri": "https://localhost:8080/",
          "height": 34
        },
        "outputId": "1fad401f-6523-4217-f749-da60fbb4b2ae"
      },
      "source": [
        "from google.colab import drive\n",
        "drive.mount('/content/gdrive')"
      ],
      "execution_count": 12,
      "outputs": [
        {
          "output_type": "stream",
          "text": [
            "Mounted at /content/gdrive\n"
          ],
          "name": "stdout"
        }
      ]
    },
    {
      "cell_type": "markdown",
      "metadata": {
        "id": "tbDePYs6OSJ6",
        "colab_type": "text"
      },
      "source": [
        "Import various PyTorch modules"
      ]
    },
    {
      "cell_type": "code",
      "metadata": {
        "id": "7b8LRmwKEMZg",
        "colab_type": "code",
        "colab": {}
      },
      "source": [
        "import torch\n",
        "import torch.nn as nn\n",
        "import torch.nn.functional as F\n",
        "import torchvision\n",
        "import torchvision.transforms as transforms"
      ],
      "execution_count": 0,
      "outputs": []
    },
    {
      "cell_type": "markdown",
      "metadata": {
        "id": "uf7W1sJ9OWgx",
        "colab_type": "text"
      },
      "source": [
        "Use glob to extract data"
      ]
    },
    {
      "cell_type": "code",
      "metadata": {
        "id": "tFa0ZFQBN9w7",
        "colab_type": "code",
        "colab": {}
      },
      "source": [
        "from glob import glob"
      ],
      "execution_count": 0,
      "outputs": []
    },
    {
      "cell_type": "code",
      "metadata": {
        "id": "fKtKX7aSRDqP",
        "colab_type": "code",
        "colab": {}
      },
      "source": [
        "def extract_locations(dataset_location):\n",
        "    \"\"\"\n",
        "    Function to get locations of all JPEG images from the given folder\n",
        "    :param dataset_location: location of the folder\n",
        "    :return: a list containing proper location of all JPEG images\n",
        "    \"\"\"\n",
        "    # Define an empty list to store file locations\n",
        "    filename_list = []\n",
        "    # Add file locations to the list\n",
        "    for filename in glob(dataset_location + '*.jpg'):\n",
        "        filename_list.append(filename)\n",
        "    # Remember that glob extract locations in a random order\n",
        "    # We are not sorting the list to get the data in a random order\n",
        "    return filename_list"
      ],
      "execution_count": 0,
      "outputs": []
    },
    {
      "cell_type": "markdown",
      "metadata": {
        "id": "lNxXR2otWG4Y",
        "colab_type": "text"
      },
      "source": [
        "Extract data locations and check whether data has been shuffled"
      ]
    },
    {
      "cell_type": "code",
      "metadata": {
        "id": "b-OAqnoo2q8x",
        "colab_type": "code",
        "colab": {
          "base_uri": "https://localhost:8080/",
          "height": 34
        },
        "outputId": "675fac9a-8e13-46c7-8026-33b7703f2271"
      },
      "source": [
        "if __name__ == '__main__':\n",
        "  file_names = extract_locations('/content/gdrive/My Drive/ENPM673/Project-6/Dataset/train/')\n",
        "  indices = [i for i in range(len(file_names)) if 'dog' in file_names[i]]\n",
        "  print(indices[:10])"
      ],
      "execution_count": 24,
      "outputs": [
        {
          "output_type": "stream",
          "text": [
            "[15, 27, 28, 29, 30, 31, 32, 33, 34, 35]\n"
          ],
          "name": "stdout"
        }
      ]
    }
  ]
}